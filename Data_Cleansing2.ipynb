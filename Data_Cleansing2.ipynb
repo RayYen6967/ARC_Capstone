{
 "cells": [
  {
   "cell_type": "code",
   "execution_count": 1,
   "id": "d91b8747",
   "metadata": {},
   "outputs": [],
   "source": [
    "import numpy as np\n",
    "import pandas as pd\n",
    "import matplotlib.pyplot as plt"
   ]
  },
  {
   "cell_type": "code",
   "execution_count": 202,
   "id": "b97b2d0a",
   "metadata": {},
   "outputs": [],
   "source": [
    "df = pd.read_csv(\"tkt_time_clean.csv\")"
   ]
  },
  {
   "cell_type": "code",
   "execution_count": 203,
   "id": "ed2f78bb",
   "metadata": {},
   "outputs": [],
   "source": [
    "df = df[df.ISSUE_YR >= 2020]"
   ]
  },
  {
   "cell_type": "code",
   "execution_count": 204,
   "id": "d27dd1e9",
   "metadata": {},
   "outputs": [],
   "source": [
    "df = df.drop([\"ISSUE_YR\", \"ISSUE_WEEK\"], axis=1)"
   ]
  },
  {
   "cell_type": "code",
   "execution_count": 205,
   "id": "3fe7ac8c",
   "metadata": {},
   "outputs": [],
   "source": [
    "df['time'] = df['time'].apply(lambda x:x-156)"
   ]
  },
  {
   "cell_type": "code",
   "execution_count": 206,
   "id": "2b85f0a4",
   "metadata": {},
   "outputs": [],
   "source": [
    "df.index = range(0,122)"
   ]
  },
  {
   "cell_type": "code",
   "execution_count": 207,
   "id": "46d79bb1",
   "metadata": {},
   "outputs": [],
   "source": [
    "oil = pd.read_csv(\"Oil_Price.csv\")"
   ]
  },
  {
   "cell_type": "code",
   "execution_count": 208,
   "id": "4cfa2da7",
   "metadata": {},
   "outputs": [],
   "source": [
    "oil = oil[(oil.ISSUE_YEAR>=2020) & (oil.ISSUE_WEEK<=52)]"
   ]
  },
  {
   "cell_type": "code",
   "execution_count": 209,
   "id": "5337fe46",
   "metadata": {},
   "outputs": [],
   "source": [
    "oil[\"time\"] = range(1,261)"
   ]
  },
  {
   "cell_type": "code",
   "execution_count": 210,
   "id": "5edbf90e",
   "metadata": {},
   "outputs": [],
   "source": [
    "oil = oil[[\"time\", \"Oil Price\"]]"
   ]
  },
  {
   "cell_type": "code",
   "execution_count": 211,
   "id": "c44464a6",
   "metadata": {},
   "outputs": [],
   "source": [
    "oil.index = range(0,260)"
   ]
  },
  {
   "cell_type": "code",
   "execution_count": 212,
   "id": "7d8a74f0",
   "metadata": {},
   "outputs": [],
   "source": [
    "train = oil[oil.time<=122]\n",
    "test = oil[oil.time>122]"
   ]
  },
  {
   "cell_type": "code",
   "execution_count": 213,
   "id": "03d33cea",
   "metadata": {},
   "outputs": [],
   "source": [
    "train = pd.concat([train, df[[\"covid_policy\", \"TOTAL_TICKETS\"]]], axis=1)"
   ]
  },
  {
   "cell_type": "code",
   "execution_count": 214,
   "id": "9f87c559",
   "metadata": {},
   "outputs": [],
   "source": [
    "from sklearn.linear_model import LinearRegression\n",
    "from math import log, exp"
   ]
  },
  {
   "cell_type": "code",
   "execution_count": 215,
   "id": "dadf1708",
   "metadata": {},
   "outputs": [
    {
     "data": {
      "text/plain": [
       "<matplotlib.collections.PathCollection at 0x1fb37b71490>"
      ]
     },
     "execution_count": 215,
     "metadata": {},
     "output_type": "execute_result"
    },
    {
     "data": {
      "image/png": "[encoded data removed]",
      "text/plain": [
       "<Figure size 432x288 with 1 Axes>"
      ]
     },
     "metadata": {
      "needs_background": "light"
     },
     "output_type": "display_data"
    }
   ],
   "source": [
    "plt.scatter(train.time, train.covid_policy)"
   ]
  },
  {
   "cell_type": "code",
   "execution_count": 216,
   "id": "521a13c9",
   "metadata": {},
   "outputs": [
    {
     "data": {
      "text/html": [
       "<div>\n",
       "<style scoped>\n",
       "    .dataframe tbody tr th:only-of-type {\n",
       "        vertical-align: middle;\n",
       "    }\n",
       "\n",
       "    .dataframe tbody tr th {\n",
       "        vertical-align: top;\n",
       "    }\n",
       "\n",
       "    .dataframe thead th {\n",
       "        text-align: right;\n",
       "    }\n",
       "</style>\n",
       "<table border=\"1\" class=\"dataframe\">\n",
       "  <thead>\n",
       "    <tr style=\"text-align: right;\">\n",
       "      <th></th>\n",
       "      <th>time</th>\n",
       "      <th>Oil Price</th>\n",
       "      <th>covid_policy</th>\n",
       "      <th>TOTAL_TICKETS</th>\n",
       "    </tr>\n",
       "  </thead>\n",
       "  <tbody>\n",
       "    <tr>\n",
       "      <th>99</th>\n",
       "      <td>100</td>\n",
       "      <td>79.015</td>\n",
       "      <td>32.634724</td>\n",
       "      <td>16874952</td>\n",
       "    </tr>\n",
       "    <tr>\n",
       "      <th>100</th>\n",
       "      <td>101</td>\n",
       "      <td>68.945</td>\n",
       "      <td>32.598641</td>\n",
       "      <td>16238822</td>\n",
       "    </tr>\n",
       "    <tr>\n",
       "      <th>101</th>\n",
       "      <td>102</td>\n",
       "      <td>73.050</td>\n",
       "      <td>32.507773</td>\n",
       "      <td>15986722</td>\n",
       "    </tr>\n",
       "    <tr>\n",
       "      <th>102</th>\n",
       "      <td>103</td>\n",
       "      <td>72.470</td>\n",
       "      <td>32.564770</td>\n",
       "      <td>13870531</td>\n",
       "    </tr>\n",
       "    <tr>\n",
       "      <th>103</th>\n",
       "      <td>104</td>\n",
       "      <td>72.770</td>\n",
       "      <td>32.683965</td>\n",
       "      <td>15395992</td>\n",
       "    </tr>\n",
       "    <tr>\n",
       "      <th>104</th>\n",
       "      <td>105</td>\n",
       "      <td>79.180</td>\n",
       "      <td>32.692612</td>\n",
       "      <td>17777537</td>\n",
       "    </tr>\n",
       "    <tr>\n",
       "      <th>105</th>\n",
       "      <td>106</td>\n",
       "      <td>83.295</td>\n",
       "      <td>32.885656</td>\n",
       "      <td>18402754</td>\n",
       "    </tr>\n",
       "    <tr>\n",
       "      <th>106</th>\n",
       "      <td>107</td>\n",
       "      <td>87.545</td>\n",
       "      <td>33.138087</td>\n",
       "      <td>17935034</td>\n",
       "    </tr>\n",
       "    <tr>\n",
       "      <th>107</th>\n",
       "      <td>108</td>\n",
       "      <td>88.530</td>\n",
       "      <td>32.805907</td>\n",
       "      <td>18189370</td>\n",
       "    </tr>\n",
       "    <tr>\n",
       "      <th>108</th>\n",
       "      <td>109</td>\n",
       "      <td>91.185</td>\n",
       "      <td>32.334531</td>\n",
       "      <td>19385540</td>\n",
       "    </tr>\n",
       "    <tr>\n",
       "      <th>109</th>\n",
       "      <td>110</td>\n",
       "      <td>93.520</td>\n",
       "      <td>31.551050</td>\n",
       "      <td>19666256</td>\n",
       "    </tr>\n",
       "    <tr>\n",
       "      <th>110</th>\n",
       "      <td>111</td>\n",
       "      <td>95.345</td>\n",
       "      <td>30.526245</td>\n",
       "      <td>19592096</td>\n",
       "    </tr>\n",
       "    <tr>\n",
       "      <th>111</th>\n",
       "      <td>112</td>\n",
       "      <td>95.770</td>\n",
       "      <td>29.601417</td>\n",
       "      <td>18700865</td>\n",
       "    </tr>\n",
       "    <tr>\n",
       "      <th>112</th>\n",
       "      <td>113</td>\n",
       "      <td>110.615</td>\n",
       "      <td>28.235487</td>\n",
       "      <td>18929231</td>\n",
       "    </tr>\n",
       "    <tr>\n",
       "      <th>113</th>\n",
       "      <td>114</td>\n",
       "      <td>117.840</td>\n",
       "      <td>27.526227</td>\n",
       "      <td>18049840</td>\n",
       "    </tr>\n",
       "    <tr>\n",
       "      <th>114</th>\n",
       "      <td>115</td>\n",
       "      <td>105.010</td>\n",
       "      <td>26.327364</td>\n",
       "      <td>16062421</td>\n",
       "    </tr>\n",
       "    <tr>\n",
       "      <th>115</th>\n",
       "      <td>116</td>\n",
       "      <td>118.645</td>\n",
       "      <td>25.795073</td>\n",
       "      <td>15059004</td>\n",
       "    </tr>\n",
       "    <tr>\n",
       "      <th>116</th>\n",
       "      <td>117</td>\n",
       "      <td>107.575</td>\n",
       "      <td>24.803703</td>\n",
       "      <td>15238752</td>\n",
       "    </tr>\n",
       "    <tr>\n",
       "      <th>117</th>\n",
       "      <td>118</td>\n",
       "      <td>101.270</td>\n",
       "      <td>23.807611</td>\n",
       "      <td>14429603</td>\n",
       "    </tr>\n",
       "    <tr>\n",
       "      <th>118</th>\n",
       "      <td>119</td>\n",
       "      <td>103.440</td>\n",
       "      <td>23.109555</td>\n",
       "      <td>12745515</td>\n",
       "    </tr>\n",
       "    <tr>\n",
       "      <th>119</th>\n",
       "      <td>120</td>\n",
       "      <td>104.870</td>\n",
       "      <td>22.245518</td>\n",
       "      <td>12218615</td>\n",
       "    </tr>\n",
       "    <tr>\n",
       "      <th>120</th>\n",
       "      <td>121</td>\n",
       "      <td>103.385</td>\n",
       "      <td>21.638946</td>\n",
       "      <td>11550258</td>\n",
       "    </tr>\n",
       "    <tr>\n",
       "      <th>121</th>\n",
       "      <td>122</td>\n",
       "      <td>108.525</td>\n",
       "      <td>20.660310</td>\n",
       "      <td>10142532</td>\n",
       "    </tr>\n",
       "  </tbody>\n",
       "</table>\n",
       "</div>"
      ],
      "text/plain": [
       "     time  Oil Price  covid_policy  TOTAL_TICKETS\n",
       "99    100     79.015     32.634724       16874952\n",
       "100   101     68.945     32.598641       16238822\n",
       "101   102     73.050     32.507773       15986722\n",
       "102   103     72.470     32.564770       13870531\n",
       "103   104     72.770     32.683965       15395992\n",
       "104   105     79.180     32.692612       17777537\n",
       "105   106     83.295     32.885656       18402754\n",
       "106   107     87.545     33.138087       17935034\n",
       "107   108     88.530     32.805907       18189370\n",
       "108   109     91.185     32.334531       19385540\n",
       "109   110     93.520     31.551050       19666256\n",
       "110   111     95.345     30.526245       19592096\n",
       "111   112     95.770     29.601417       18700865\n",
       "112   113    110.615     28.235487       18929231\n",
       "113   114    117.840     27.526227       18049840\n",
       "114   115    105.010     26.327364       16062421\n",
       "115   116    118.645     25.795073       15059004\n",
       "116   117    107.575     24.803703       15238752\n",
       "117   118    101.270     23.807611       14429603\n",
       "118   119    103.440     23.109555       12745515\n",
       "119   120    104.870     22.245518       12218615\n",
       "120   121    103.385     21.638946       11550258\n",
       "121   122    108.525     20.660310       10142532"
      ]
     },
     "execution_count": 216,
     "metadata": {},
     "output_type": "execute_result"
    }
   ],
   "source": [
    "train[train.time>=100]"
   ]
  },
  {
   "cell_type": "code",
   "execution_count": 217,
   "id": "1fd40b89",
   "metadata": {},
   "outputs": [],
   "source": [
    "lm = LinearRegression()"
   ]
  },
  {
   "cell_type": "code",
   "execution_count": 218,
   "id": "8b281db9",
   "metadata": {},
   "outputs": [
    {
     "data": {
      "text/plain": [
       "LinearRegression()"
      ]
     },
     "execution_count": 218,
     "metadata": {},
     "output_type": "execute_result"
    }
   ],
   "source": [
    "lm.fit(train[train.time>=110].time.values.reshape(-1, 1), \\\n",
    "       train[train.time>=110].covid_policy.apply(lambda x:log(x)).values.reshape(-1, 1))"
   ]
  },
  {
   "cell_type": "code",
   "execution_count": 219,
   "id": "95aa0c30",
   "metadata": {},
   "outputs": [],
   "source": [
    "pred = lm.predict(test.time.values.reshape(-1, 1))"
   ]
  },
  {
   "cell_type": "code",
   "execution_count": 220,
   "id": "6e6bd38c",
   "metadata": {
    "scrolled": true
   },
   "outputs": [
    {
     "data": {
      "text/plain": [
       "array([[ 2.99872375],\n",
       "       [ 2.96380932],\n",
       "       [ 2.9288949 ],\n",
       "       [ 2.89398048],\n",
       "       [ 2.85906605],\n",
       "       [ 2.82415163],\n",
       "       [ 2.7892372 ],\n",
       "       [ 2.75432278],\n",
       "       [ 2.71940835],\n",
       "       [ 2.68449393],\n",
       "       [ 2.6495795 ],\n",
       "       [ 2.61466508],\n",
       "       [ 2.57975065],\n",
       "       [ 2.54483623],\n",
       "       [ 2.50992181],\n",
       "       [ 2.47500738],\n",
       "       [ 2.44009296],\n",
       "       [ 2.40517853],\n",
       "       [ 2.37026411],\n",
       "       [ 2.33534968],\n",
       "       [ 2.30043526],\n",
       "       [ 2.26552083],\n",
       "       [ 2.23060641],\n",
       "       [ 2.19569198],\n",
       "       [ 2.16077756],\n",
       "       [ 2.12586314],\n",
       "       [ 2.09094871],\n",
       "       [ 2.05603429],\n",
       "       [ 2.02111986],\n",
       "       [ 1.98620544],\n",
       "       [ 1.95129101],\n",
       "       [ 1.91637659],\n",
       "       [ 1.88146216],\n",
       "       [ 1.84654774],\n",
       "       [ 1.81163332],\n",
       "       [ 1.77671889],\n",
       "       [ 1.74180447],\n",
       "       [ 1.70689004],\n",
       "       [ 1.67197562],\n",
       "       [ 1.63706119],\n",
       "       [ 1.60214677],\n",
       "       [ 1.56723234],\n",
       "       [ 1.53231792],\n",
       "       [ 1.49740349],\n",
       "       [ 1.46248907],\n",
       "       [ 1.42757465],\n",
       "       [ 1.39266022],\n",
       "       [ 1.3577458 ],\n",
       "       [ 1.32283137],\n",
       "       [ 1.28791695],\n",
       "       [ 1.25300252],\n",
       "       [ 1.2180881 ],\n",
       "       [ 1.18317367],\n",
       "       [ 1.14825925],\n",
       "       [ 1.11334482],\n",
       "       [ 1.0784304 ],\n",
       "       [ 1.04351598],\n",
       "       [ 1.00860155],\n",
       "       [ 0.97368713],\n",
       "       [ 0.9387727 ],\n",
       "       [ 0.90385828],\n",
       "       [ 0.86894385],\n",
       "       [ 0.83402943],\n",
       "       [ 0.799115  ],\n",
       "       [ 0.76420058],\n",
       "       [ 0.72928616],\n",
       "       [ 0.69437173],\n",
       "       [ 0.65945731],\n",
       "       [ 0.62454288],\n",
       "       [ 0.58962846],\n",
       "       [ 0.55471403],\n",
       "       [ 0.51979961],\n",
       "       [ 0.48488518],\n",
       "       [ 0.44997076],\n",
       "       [ 0.41505633],\n",
       "       [ 0.38014191],\n",
       "       [ 0.34522749],\n",
       "       [ 0.31031306],\n",
       "       [ 0.27539864],\n",
       "       [ 0.24048421],\n",
       "       [ 0.20556979],\n",
       "       [ 0.17065536],\n",
       "       [ 0.13574094],\n",
       "       [ 0.10082651],\n",
       "       [ 0.06591209],\n",
       "       [ 0.03099766],\n",
       "       [-0.00391676],\n",
       "       [-0.03883118],\n",
       "       [-0.07374561],\n",
       "       [-0.10866003],\n",
       "       [-0.14357446],\n",
       "       [-0.17848888],\n",
       "       [-0.21340331],\n",
       "       [-0.24831773],\n",
       "       [-0.28323216],\n",
       "       [-0.31814658],\n",
       "       [-0.35306101],\n",
       "       [-0.38797543],\n",
       "       [-0.42288985],\n",
       "       [-0.45780428],\n",
       "       [-0.4927187 ],\n",
       "       [-0.52763313],\n",
       "       [-0.56254755],\n",
       "       [-0.59746198],\n",
       "       [-0.6323764 ],\n",
       "       [-0.66729083],\n",
       "       [-0.70220525],\n",
       "       [-0.73711967],\n",
       "       [-0.7720341 ],\n",
       "       [-0.80694852],\n",
       "       [-0.84186295],\n",
       "       [-0.87677737],\n",
       "       [-0.9116918 ],\n",
       "       [-0.94660622],\n",
       "       [-0.98152065],\n",
       "       [-1.01643507],\n",
       "       [-1.0513495 ],\n",
       "       [-1.08626392],\n",
       "       [-1.12117834],\n",
       "       [-1.15609277],\n",
       "       [-1.19100719],\n",
       "       [-1.22592162],\n",
       "       [-1.26083604],\n",
       "       [-1.29575047],\n",
       "       [-1.33066489],\n",
       "       [-1.36557932],\n",
       "       [-1.40049374],\n",
       "       [-1.43540817],\n",
       "       [-1.47032259],\n",
       "       [-1.50523701],\n",
       "       [-1.54015144],\n",
       "       [-1.57506586],\n",
       "       [-1.60998029],\n",
       "       [-1.64489471],\n",
       "       [-1.67980914],\n",
       "       [-1.71472356],\n",
       "       [-1.74963799],\n",
       "       [-1.78455241]])"
      ]
     },
     "execution_count": 220,
     "metadata": {},
     "output_type": "execute_result"
    }
   ],
   "source": [
    "pred"
   ]
  },
  {
   "cell_type": "code",
   "execution_count": 221,
   "id": "5e7d6481",
   "metadata": {},
   "outputs": [
    {
     "name": "stderr",
     "output_type": "stream",
     "text": [
      "<ipython-input-221-63d286e6d6d6>:1: SettingWithCopyWarning: \n",
      "A value is trying to be set on a copy of a slice from a DataFrame.\n",
      "Try using .loc[row_indexer,col_indexer] = value instead\n",
      "\n",
      "See the caveats in the documentation: https://pandas.pydata.org/pandas-docs/stable/user_guide/indexing.html#returning-a-view-versus-a-copy\n",
      "  test['covid_policy'] = pred\n"
     ]
    }
   ],
   "source": [
    "test['covid_policy'] = pred"
   ]
  },
  {
   "cell_type": "code",
   "execution_count": 222,
   "id": "781fe766",
   "metadata": {},
   "outputs": [
    {
     "name": "stderr",
     "output_type": "stream",
     "text": [
      "<ipython-input-222-69add068b1cf>:1: SettingWithCopyWarning: \n",
      "A value is trying to be set on a copy of a slice from a DataFrame.\n",
      "Try using .loc[row_indexer,col_indexer] = value instead\n",
      "\n",
      "See the caveats in the documentation: https://pandas.pydata.org/pandas-docs/stable/user_guide/indexing.html#returning-a-view-versus-a-copy\n",
      "  test['covid_policy'] = test['covid_policy'].apply(lambda x:exp(x))\n"
     ]
    }
   ],
   "source": [
    "test['covid_policy'] = test['covid_policy'].apply(lambda x:exp(x))"
   ]
  },
  {
   "cell_type": "code",
   "execution_count": 223,
   "id": "79f752e9",
   "metadata": {},
   "outputs": [],
   "source": [
    "test.to_csv(\"all_test.csv\", index=False)"
   ]
  },
  {
   "cell_type": "code",
   "execution_count": 224,
   "id": "75b724d8",
   "metadata": {},
   "outputs": [],
   "source": [
    "train.to_csv(\"all_train.csv\", index=False)"
   ]
  }
 ],
 "metadata": {
  "kernelspec": {
   "display_name": "Python 3",
   "language": "python",
   "name": "python3"
  },
  "language_info": {
   "codemirror_mode": {
    "name": "ipython",
    "version": 3
   },
   "file_extension": ".py",
   "mimetype": "text/x-python",
   "name": "python",
   "nbconvert_exporter": "python",
   "pygments_lexer": "ipython3",
   "version": "3.8.8"
  }
 },
 "nbformat": 4,
 "nbformat_minor": 5
}
